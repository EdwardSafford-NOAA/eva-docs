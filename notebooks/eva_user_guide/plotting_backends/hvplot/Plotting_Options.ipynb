version https://git-lfs.github.com/spec/v1
oid sha256:27324f0339923c082f6d32dc6d144c29fce457b74747545339d2cd9501012ed5
size 59812
